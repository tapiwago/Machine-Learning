{
 "cells": [
  {
   "cell_type": "code",
   "execution_count": 92,
   "metadata": {},
   "outputs": [],
   "source": [
    "#importing libraries\n",
    "import numpy as np\n",
    "import pandas as pd\n",
    "from sklearn.model_selection import ShuffleSplit\n",
    "import matplotlib.pyplot as plt"
   ]
  },
  {
   "cell_type": "code",
   "execution_count": 93,
   "metadata": {},
   "outputs": [],
   "source": [
    "#importing the visiualisation libary\n",
    "%matplotlib inline"
   ]
  },
  {
   "cell_type": "code",
   "execution_count": 94,
   "metadata": {},
   "outputs": [],
   "source": [
    "#importing the housing plan data set\n",
    "data = pd.read_csv('zhp.csv')\n",
    "\n",
    "# data\n",
    "# prices = data['']"
   ]
  },
  {
   "cell_type": "code",
   "execution_count": 95,
   "metadata": {},
   "outputs": [],
   "source": [
    "#renaming columns\n",
    "data = data.rename(index=str, columns={\"Select the level of population density where the property you're renting is located\": \"density\", \"In which city or town are you renting a property?\": \"town\",\"Is the property located in a cluster setting, whereby there are many houses/ buildings in the same yard/compound?\":\"clustered\",\"Is the house/property insured against accidents?\":\"insured\",\"Do you share the house/property with others?\":\"shared\",\"How many rooms of the property are you using\":\"#_of_rooms\",\"What are you using the property for?\":\"purpose\",\"In what currency do you pay your rentals?\":\"currency\",\"How much do pay for the property/house/room that you're are renting\":\"price\",\"Is your monthly rental fee inclusive of utility bills(electricity, water, etc)\":\"inclusive\",\"Tick services that you are allowed to use on the property that you are renting\":\"services\"})\n",
    "#data coding\n",
    "data =data.replace(\"USD\", 1)\n",
    "data =data.replace(\"RTGS$\", 0)\n",
    "data =data.replace(\"RTGS$\", 0)\n",
    "\n",
    "\n"
   ]
  },
  {
   "cell_type": "code",
   "execution_count": 96,
   "metadata": {},
   "outputs": [
    {
     "data": {
      "image/png": "[encoded data removed]",
      "text/plain": [
       "<Figure size 432x288 with 1 Axes>"
      ]
     },
     "metadata": {
      "needs_background": "light"
     },
     "output_type": "display_data"
    }
   ],
   "source": [
    "data\n",
    "# ax.plot('line',data['town'], data['price'])\n",
    "# data.groupby('state')['name'].nunique().plot(kind='bar',x='currency',y='price')\n",
    "data.groupby('town')['Timestamp'].nunique().plot(kind='bar')\n",
    "plt.show()"
   ]
  },
  {
   "cell_type": "code",
   "execution_count": null,
   "metadata": {},
   "outputs": [],
   "source": []
  },
  {
   "cell_type": "code",
   "execution_count": null,
   "metadata": {},
   "outputs": [],
   "source": []
  }
 ],
 "metadata": {
  "kernelspec": {
   "display_name": "Python 3",
   "language": "python",
   "name": "python3"
  },
  "language_info": {
   "codemirror_mode": {
    "name": "ipython",
    "version": 3
   },
   "file_extension": ".py",
   "mimetype": "text/x-python",
   "name": "python",
   "nbconvert_exporter": "python",
   "pygments_lexer": "ipython3",
   "version": "3.7.1"
  }
 },
 "nbformat": 4,
 "nbformat_minor": 2
}
